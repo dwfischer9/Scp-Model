{
 "cells": [
  {
   "cell_type": "code",
   "execution_count": 1,
   "metadata": {},
   "outputs": [
    {
     "name": "stdout",
     "output_type": "stream",
     "text": [
      "Successfully read data from CSV.\n",
      "Now cleaning the data...\n"
     ]
    }
   ],
   "source": [
    "import pandas as pd\n",
    "import numpy as np\n",
    "\n",
    "from nltk.stem import PorterStemmer\n",
    "stop_words = ['the', 'and', 'to', 'of', 'is', 'in', 'that', 'it', 'with', 'for', 'on', 'was', 'as', 'at', 'by', 'an', 'be', 'this', 'which', 'or', 'from', 'not', 'but',\n",
    "              'are', 'they', 'if', 'we', 'all', 'can', 'more', 'will', 'has', 'their', 'its', 'who', 'than', 'then', 'had', 'her', 'him', 'she', 'he', 'my', 'your', 'our', 'us']\n",
    "\n",
    "df = pd.read_csv('scp6999.csv')\n",
    "print(\"Successfully read data from CSV.\")\n",
    "print(\"Now cleaning the data...\")\n",
    "# cleaning up data, all text including and after this is not part of the article.\n",
    "df['text'] = df['text'].str.split('« SCP').str[0]\n",
    "df['text'] = df['text'].replace('[^a-zA-Z\\s]', '', regex=True)\n",
    "df['text'] = df['text'].replace('  ', ' ', regex=True)\n",
    "df['text'] = df['text'].str.lower().apply(lambda x: ' '.join(\n",
    "        [word for word in x.split() if word not in stop_words]))  # remove stop words and put to lowercase\n",
    "df['Euclid'] = df['Euclid'].fillna('none/other')\n",
    "stemmer = PorterStemmer()\n",
    "df['text_stemmed'] = df['text'].apply(\n",
    "        lambda x: ' '.join([stemmer.stem(word) for word in x.split()]))  # convert words to their stemmed form"
   ]
  },
  {
   "cell_type": "code",
   "execution_count": 2,
   "metadata": {},
   "outputs": [],
   "source": [
    "from collections import Counter\n",
    "\n",
    "\n",
    "def bag_of_words(texts):\n",
    "    \"\"\"\n",
    "    Computes a bag of words representation for a list of texts\n",
    "    \"\"\"\n",
    "    # Preprocess the texts\n",
    "    preprocessed_texts = texts\n",
    "\n",
    "    # Create a dictionary of word frequencies\n",
    "    word_freqs = Counter()\n",
    "    for text in preprocessed_texts:\n",
    "        words = text.split()\n",
    "        word_freqs.update(words)\n",
    "\n",
    "    # Create a list of unique words\n",
    "    unique_words = list(word_freqs.keys())\n",
    "\n",
    "    # Create a dictionary mapping words to indices\n",
    "    word_to_index = {word: i for i, word in enumerate(unique_words)}\n",
    "\n",
    "    # Create a matrix of word frequencies\n",
    "    num_texts = len(preprocessed_texts)\n",
    "    num_words = len(unique_words)\n",
    "    word_freq_matrix = [[0 for j in range(num_words)] for i in range(num_texts)]\n",
    "    for i, text in enumerate(preprocessed_texts):\n",
    "        words = text.split()\n",
    "        for word in words:\n",
    "            word_index = word_to_index[word]\n",
    "            word_freq_matrix[i][word_index] += 1\n",
    "\n",
    "    return word_freq_matrix, unique_words"
   ]
  },
  {
   "cell_type": "code",
   "execution_count": 3,
   "metadata": {},
   "outputs": [
    {
     "name": "stdout",
     "output_type": "stream",
     "text": [
      "Data has been loaded and cleaned!\n",
      "Building features...\n",
      "Word frequency features have been built.\n"
     ]
    }
   ],
   "source": [
    "\n",
    "print(\"Data has been loaded and cleaned!\")\n",
    "print(\"Building features...\")\n",
    "X, unique_words = bag_of_words(df['text'])\n",
    "\n",
    "print(\"Word frequency features have been built.\")"
   ]
  },
  {
   "cell_type": "code",
   "execution_count": 4,
   "metadata": {},
   "outputs": [],
   "source": [
    "from sklearn.model_selection import train_test_split\n",
    "\n",
    "\n",
    "    # df.to_csv(\"../data/processed/freq.csv\", index=False)\n",
    "    # print(\"Data has been saved to data/processed/freq.csv\")\n",
    "    # df = pd.read_csv(\"../data/processed/freq.csv\")\n",
    "y = df['Euclid']\n",
    "X_train, X_test, y_train, y_test = train_test_split(X,y, test_size=0.2, random_state=42)"
   ]
  },
  {
   "cell_type": "code",
   "execution_count": 5,
   "metadata": {},
   "outputs": [
    {
     "name": "stderr",
     "output_type": "stream",
     "text": [
      "/Users/daniel/Library/Python/3.9/lib/python/site-packages/sklearn/model_selection/_split.py:684: UserWarning: The least populated class in y has only 1 members, which is less than n_splits=5.\n",
      "  warnings.warn(\n"
     ]
    }
   ],
   "source": [
    "from sklearn.ensemble import RandomForestClassifier\n",
    "from sklearn.model_selection import GridSearchCV\n",
    "from sklearn.metrics import confusion_matrix\n",
    "\n",
    "rf = RandomForestClassifier(n_estimators=100, random_state=42)\n",
    "rf.fit(X_train, y_train)\n",
    "param_grid = {'n_estimators': [500, 1000, 2000, 4000, 120000]}\n",
    "grid = GridSearchCV(estimator=rf, param_grid=param_grid, cv=5)\n",
    "grid.fit(X_train, y_train)\n",
    "print(grid.best_params_)\n",
    "print(grid.best_score_) \n",
    "confusion_matrix(y_test, grid.best_estimator_.predict(X_test))\n"
   ]
  },
  {
   "cell_type": "code",
   "execution_count": null,
   "metadata": {},
   "outputs": [
    {
     "ename": "NameError",
     "evalue": "name 'rf' is not defined",
     "output_type": "error",
     "traceback": [
      "\u001b[0;31m---------------------------------------------------------------------------\u001b[0m",
      "\u001b[0;31mNameError\u001b[0m                                 Traceback (most recent call last)",
      "Cell \u001b[0;32mIn[1], line 1\u001b[0m\n\u001b[0;32m----> 1\u001b[0m rf\u001b[39m.\u001b[39mscore(X_test, y_test)\n",
      "\u001b[0;31mNameError\u001b[0m: name 'rf' is not defined"
     ]
    }
   ],
   "source": [
    "rf.score(X_test, y_test)"
   ]
  },
  {
   "cell_type": "code",
   "execution_count": null,
   "metadata": {},
   "outputs": [],
   "source": []
  }
 ],
 "metadata": {
  "kernelspec": {
   "display_name": "Python 3",
   "language": "python",
   "name": "python3"
  },
  "language_info": {
   "codemirror_mode": {
    "name": "ipython",
    "version": 3
   },
   "file_extension": ".py",
   "mimetype": "text/x-python",
   "name": "python",
   "nbconvert_exporter": "python",
   "pygments_lexer": "ipython3",
   "version": "3.9.6"
  },
  "orig_nbformat": 4
 },
 "nbformat": 4,
 "nbformat_minor": 2
}
